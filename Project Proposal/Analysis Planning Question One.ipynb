{
 "cells": [
  {
   "cell_type": "markdown",
   "id": "9aa9b8ad-ac78-4bf3-9206-60a6bb364456",
   "metadata": {},
   "source": [
    "# Analysis Planning: Evaluation Question 1\n",
    "---\n",
    "\n",
    "## First Evaluation Question: \n",
    "### Which physiochemical properties of wine have the most significant impact on quality? \n",
    "\n",
    "---\n",
    "## Methodology:\n",
    "\n",
    "### To answer this question, we will run an Ordinal Logistic Regression.  \n",
    "### Our Dependent Variable (DV) for this analysis will be 'Quality', which will be treated as an ordinal, categorical variable. \n",
    "\n",
    "### Our Independent Variables (IV) for this analysis will be as follows:\n",
    "\n",
    "#### * Fixed Acidity: Continuous\n",
    "#### * Volatile Acidity: Continuous\n",
    "#### * Citric Acid: Continuous\n",
    "#### * Residual Sugars: Continuous\n",
    "#### * Chlorides: Continuous\n",
    "#### * Free Sulfur Dioxide: Continuous\n",
    "#### * Total Sulfur Dioxides: Continuous\n",
    "#### * Density: Continuous \n",
    "#### * pH: Continuous\n",
    "#### * Sulphates: Continuous\n",
    "#### * Alcohol: Continuous "
   ]
  },
  {
   "cell_type": "markdown",
   "id": "417b7988",
   "metadata": {},
   "source": []
  }
 ],
 "metadata": {
  "kernelspec": {
   "display_name": "Python 3 (ipykernel)",
   "language": "python",
   "name": "python3"
  },
  "language_info": {
   "codemirror_mode": {
    "name": "ipython",
    "version": 3
   },
   "file_extension": ".py",
   "mimetype": "text/x-python",
   "name": "python",
   "nbconvert_exporter": "python",
   "pygments_lexer": "ipython3",
   "version": "3.9.7"
  }
 },
 "nbformat": 4,
 "nbformat_minor": 5
}
