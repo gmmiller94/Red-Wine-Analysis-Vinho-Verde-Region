{
 "cells": [
  {
   "cell_type": "markdown",
   "id": "9aa9b8ad-ac78-4bf3-9206-60a6bb364456",
   "metadata": {},
   "source": [
    "# Analysis Planning Worksheet\n",
    "\n",
    "---\n",
    "## Second Evaluation Question: \n",
    "### Having identified the physicochemical properties that significantly influence wine quality, how do they affect wine quality individually? (i.e., What balance or interplay between these variables is necessary for the best quality wine?)\n",
    "\n",
    "\n",
    "---\n",
    "## Methodology: \n",
    "\n",
    "### To answer this question, we will run a Linear Discriminant Analysis (LDA). \n",
    "\n",
    "#### Our Dependent Variable (DV) for this analysis will be 'Quality'.\n",
    "#### Our Independent Variables (IV) will be selected in accordance with the results of our first analysis.\n",
    "\n",
    "\n",
    "\n"
   ]
  },
  {
   "cell_type": "code",
   "execution_count": null,
   "id": "ce416b78-ef91-4c85-9e94-09c16925c49b",
   "metadata": {},
   "outputs": [],
   "source": []
  }
 ],
 "metadata": {
  "kernelspec": {
   "display_name": "Python 3 (ipykernel)",
   "language": "python",
   "name": "python3"
  },
  "language_info": {
   "codemirror_mode": {
    "name": "ipython",
    "version": 3
   },
   "file_extension": ".py",
   "mimetype": "text/x-python",
   "name": "python",
   "nbconvert_exporter": "python",
   "pygments_lexer": "ipython3",
   "version": "3.9.7"
  }
 },
 "nbformat": 4,
 "nbformat_minor": 5
}
