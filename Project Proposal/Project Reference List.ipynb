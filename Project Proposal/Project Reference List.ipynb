{
 "cells": [
  {
   "cell_type": "markdown",
   "id": "21e529a7",
   "metadata": {},
   "source": [
    "# Project Reference List"
   ]
  },
  {
   "cell_type": "markdown",
   "id": "95a9bc33",
   "metadata": {},
   "source": [
    "Bertelsen, B. (2015, August 1). Bootstrap with logistic regression. R-bloggers. Retrieved May 29, 2022, from https://www.r-bloggers.com/2015/08/bootstrap-with-logistic-regression/"
   ]
  },
  {
   "cell_type": "markdown",
   "id": "30350eb4",
   "metadata": {},
   "source": [
    "Buks. (2020). Logistic regression wine quality(~92%) [Kaggle notebook]. Kaggle. Retrieved May 31, 2022, from https://www.kaggle.com/code/abolarinbukola/logistic-regression-wine-quality-92/notebook"
   ]
  },
  {
   "cell_type": "markdown",
   "id": "480c8634",
   "metadata": {},
   "source": [
    "[Cheers with wine glasses photograph]. (n.d.). The San Francisco Peninsula. https://www.thesanfranciscopeninsula.com/things-to-do/wineries-breweries/"
   ]
  },
  {
   "cell_type": "markdown",
   "id": "56b14c28",
   "metadata": {},
   "source": [
    "Cortez, P., Cedeira, A., Almeida, F., Matos, T., & Reis, J. (2009). Modeling wine preferences by data mining from physicochemical properties [Data Report and Findings]. University of Minho; Viticulture Commission of the Vinho Verde region. https://www.scinapse.io/papers/2103459159#fullText"
   ]
  },
  {
   "cell_type": "markdown",
   "id": "f4d21a42",
   "metadata": {},
   "source": [
    "Cortez, P., Cerdeira, A., Almeida, F., Matos, T., & Reis, J. (2009). Wine quality data set [Data set]. UCI Machine Learning Repository. https://archive.ics.uci.edu/ml/datasets/wine+quality"
   ]
  },
  {
   "cell_type": "markdown",
   "id": "1f9a6d6a",
   "metadata": {},
   "source": [
    "Creative Connoisseur. (2015, November). Hydrometer confusion. Retrieved May 15, 2022, from http://www.creativeconnoisseur.com/newsletter/files/497deafe6be1b2efc87df8ac6071e459-162.html#:~:text=Quite%20obviously%20the%20density%20of,9%25%20more%20dense%20than%20water"
   ]
  },
  {
   "cell_type": "markdown",
   "id": "8a4c61cc",
   "metadata": {},
   "source": [
    "Frost, J. (2017, April 2). Multicollinearity in regression analysis: Problems, detection, and solutions. Statistics By Jim. Retrieved May 29, 2022, from https://statisticsbyjim.com/regression/multicollinearity-in-regression-analysis/"
   ]
  },
  {
   "cell_type": "markdown",
   "id": "3706b914",
   "metadata": {},
   "source": [
    "Goode, J. (2016). Vinhão on the vine, Vinho Verde [Photograph]. Jamie Goode's wine blog. https://www.wineanorak.com/wineblog/portugal/vinhao-red-vinho-verde"
   ]
  },
  {
   "cell_type": "markdown",
   "id": "330c9cd3",
   "metadata": {},
   "source": [
    "Hale, N. (2019, June 19). What is acidity in wine? Wine Enthusiast. Retrieved May 15, 2022, from https://www.winemag.com/2019/06/19/what-is-acidity-in-wine/"
   ]
  },
  {
   "cell_type": "markdown",
   "id": "fb5398a7",
   "metadata": {},
   "source": [
    "Iowa State University. (2018, February 27). Total sulfur dioxide: why it matters, too! Midwest Grape and Wine Industry Institute. Retrieved May 15, 2022, from https://www.extension.iastate.edu/wine/total-sulfur-dioxide-why-it-matters-too/"
   ]
  },
  {
   "cell_type": "markdown",
   "id": "ac033643",
   "metadata": {},
   "source": [
    "Lee, E. (2019, May 25). Ordinal logistic regression and its assumptions — full analysis. Medium. https://medium.com/evangelinelee/ordinal-logistic-regression-on-world-happiness-report-221372709095#:~:text=The%20assumptions%20of%20the%20Ordinal,No%20multi%2Dcollinearity"
   ]
  },
  {
   "cell_type": "markdown",
   "id": "d956b5fe",
   "metadata": {},
   "source": [
    "Leung, K. (2021, October 4). Assumptions of logistic regression, clearly explained. Medium. Retrieved May 31, 2022, from https://towardsdatascience.com/assumptions-of-logistic-regression-clearly-explained-44d85a22b290"
   ]
  },
  {
   "cell_type": "markdown",
   "id": "e2cde27c",
   "metadata": {},
   "source": [
    "M Yasser H. (2022). Wine quality dataset [Data set]. Kaggle. Retrieved May 10, 2022, from https://www.kaggle.com/datasets/yasserh/wine-quality-dataset"
   ]
  },
  {
   "cell_type": "markdown",
   "id": "fe3af7a3",
   "metadata": {},
   "source": [
    "Miles, B. (2018, September 28). Red wine vino verde analysis. Bl.ocks. Retrieved May 30, 2022, from http://bl.ocks.org/BMPMS/raw/350dbb981acaccaf9ede838bb4f78a33/"
   ]
  },
  {
   "cell_type": "markdown",
   "id": "f990248c",
   "metadata": {},
   "source": [
    "Perceptive Analytics. (2019, June 18). How to perform ordinal logistic regression in r. R-bloggers. Retrieved June 2, 2022, from https://www.r-bloggers.com/2019/06/how-to-perform-ordinal-logistic-regression-in-r/"
   ]
  },
  {
   "cell_type": "markdown",
   "id": "90231e8d",
   "metadata": {},
   "source": [
    "Puckette, M. (n.d.). Beginner's guide to vinho verde wine. Wine Folly. Retrieved May 15, 2022, from https://winefolly.com/deep-dive/vinho-verde-the-perfect-poolside-wine-from-portugal/"
   ]
  },
  {
   "cell_type": "markdown",
   "id": "6b4a440d",
   "metadata": {},
   "source": [
    "Science Direct. (2013). Discriminant function analysis - an overview. Retrieved June 9, 2022, from https://www.sciencedirect.com/topics/neuroscience/discriminant-function-analysis"
   ]
  },
  {
   "cell_type": "markdown",
   "id": "54fa0666",
   "metadata": {},
   "source": [
    "StudyGyaan. (2020, August 25). Wine Quality Prediction using Logistic Regression and Random Forest Classifier | Machine Learning [Video]. YouTube. https://www.youtube.com/watch?v=3VsTgH_fJ_s"
   ]
  },
  {
   "cell_type": "markdown",
   "id": "83a2c92c",
   "metadata": {},
   "source": [
    "The Australian Wine Research Institute. (2013, May). Salt in grapes and wine a common issue [PDF]. Retrieved May 15, 2022, from https://www.awri.com.au/wp-content/uploads/2018/08/s1530.pdf#:~:text=The%20higher%20extraction%20of%20chloride,juice%20x%201.7%20%3D%20606)"
   ]
  },
  {
   "cell_type": "markdown",
   "id": "8b1e11eb",
   "metadata": {},
   "source": [
    "Thieme, C. (2021, May 15). Identifying outliers in linear regression — cook’s distance. Medium. Retrieved June 8, 2022, from https://towardsdatascience.com/identifying-outliers-in-linear-regression-cooks-distance-9e212e9136a"
   ]
  },
  {
   "cell_type": "markdown",
   "id": "d4182f0a",
   "metadata": {},
   "source": [
    "Torres, O. (2014, December). Logit, probit, and multinomial logit models in R [PDF]. Princeton University. Retrieved June 2, 2022, from https://www.princeton.edu/~otorres/LogitR101.pdf"
   ]
  },
  {
   "cell_type": "markdown",
   "id": "e9437454",
   "metadata": {},
   "source": [
    "TPN Lusa. (2022, January 15). Portuguese wines exports up. The Portugal News. Retrieved June 11, 2022, from https://www.theportugalnews.com/news/2022-01-15/portuguese-wines-exports-up/64618"
   ]
  },
  {
   "cell_type": "markdown",
   "id": "5ccc0b94",
   "metadata": {},
   "source": [
    "UC Davis. (2018, April 3). Citric acid. Viticulture and Enology. Retrieved May 15, 2022, from https://wineserver.ucdavis.edu/industry-info/enology/methods-and-techniques/common-chemical-reagents/citric-acid"
   ]
  },
  {
   "cell_type": "markdown",
   "id": "b2e17604",
   "metadata": {},
   "source": [
    "UC Davis. (2019a, March 1). Fixed acidity. Waterhouse Lab. Retrieved May 15, 2022, from https://waterhouse.ucdavis.edu/whats-in-wine/fixed-acidity#:~:text=The%20predominant%20fixed%20acids%20found,2%2C000%20mg%2FL%20succinic%20acid"
   ]
  },
  {
   "cell_type": "markdown",
   "id": "4f268ddf",
   "metadata": {},
   "source": [
    "UC Davis. (2019, March 1). Volatile acidity. Waterhouse Lab. Retrieved May 15, 2022, from https://waterhouse.ucdavis.edu/whats-in-wine/volatile-acidity"
   ]
  },
  {
   "cell_type": "markdown",
   "id": "a169a985",
   "metadata": {},
   "source": [
    "UCI Machine Learning. (2017). Red wine quality. Kaggle. Retrieved May 15, 2022, from https://www.kaggle.com/datasets/uciml/red-wine-quality-cortez-et-al-2009"
   ]
  },
  {
   "cell_type": "markdown",
   "id": "b307d792",
   "metadata": {},
   "source": [
    "UCLA. (n.d.-a). Ordinal logistic regression: R data analysis examples. UCLA Statistical Methods and Data Analytics. Retrieved June 2, 2022, from https://stats.oarc.ucla.edu/r/dae/ordinal-logistic-regression/"
   ]
  },
  {
   "cell_type": "markdown",
   "id": "9ca97882",
   "metadata": {},
   "source": [
    "UCLA. (n.d.-b). What statistical analysis should i use? statistical analyses using r. UCLA Statistical Methods and Analytics. Retrieved June 9, 2022, from https://stats.oarc.ucla.edu/r/whatstat/what-statistical-analysis-should-i-usestatistical-analyses-using-r/#discrim"
   ]
  },
  {
   "cell_type": "markdown",
   "id": "006fecb9",
   "metadata": {},
   "source": [
    "United States Department of Agriculture & Global Agriculture Information Network. (2021, January 29). Portuguese wine exports rise in 2020 despite COVID-19 challenges [Voluntary report]. USDA. Retrieved June 11, 2022, from https://apps.fas.usda.gov/newgainapi/api/Report/DownloadReportByFileName?fileName=Portuguese%20Wine%20Exports%20Rise%20in%202020%20Despite%20COVID-19%20Challenges%20_Madrid_Portugal_01-29-2021#:~:text=In%20MY%202019%2F20%2C%20according,million%20(see%20Chart%204)."
   ]
  },
  {
   "cell_type": "markdown",
   "id": "a5f8f1fa",
   "metadata": {},
   "source": [
    "University of St. Andrews. (2014). Ordinal logistic regression [PDF]. Retrieved June 7, 2022, from https://www.st-andrews.ac.uk/media/ceed/students/mathssupport/ordinal%20logistic%20regression.pdf"
   ]
  },
  {
   "cell_type": "markdown",
   "id": "f3d9a442",
   "metadata": {},
   "source": [
    "Vinifera, K. (2017, April 14). What’s the difference between sulfates and sulfites in wine? Wine Spectator. Retrieved May 15, 2022, from https://www.winespectator.com/articles/difference-between-sulfites-sulfates-wine-54706#:~:text=Sulfates%20aren't%20involved%20in,preservative%20by%20inhibiting%20microbial%20growth"
   ]
  },
  {
   "cell_type": "markdown",
   "id": "aad6b85f",
   "metadata": {},
   "source": [
    "Volkers, S. (2020, November 10). What options do I have if the assumption of the linearity of the logit is not met in a binary logistic regression model. Research Gate. Retrieved May 29, 2022, from https://www.researchgate.net/post/What_options_do_I_have_if_the_assumption_of_the_linearity_of_the_logit_is_not_met_in_a_binary_logistic_regression_model"
   ]
  },
  {
   "cell_type": "markdown",
   "id": "3cb05abf",
   "metadata": {},
   "source": [
    "Wu, S. (2020, July 16). What is residual sugar in wine? – ask decanter. Decanter. Retrieved May 15, 2022, from https://www.decanter.com/learn/residual-sugar-46007/"
   ]
  },
  {
   "cell_type": "markdown",
   "id": "9ab60594",
   "metadata": {},
   "source": [
    "Zach. (2020, October 30). Linear discriminant analysis in r (step-by-step). Statology. Retrieved June 9, 2022, from https://www.statology.org/linear-discriminant-analysis-in-r/"
   ]
  }
 ],
 "metadata": {
  "kernelspec": {
   "display_name": "Python 3 (ipykernel)",
   "language": "python",
   "name": "python3"
  },
  "language_info": {
   "codemirror_mode": {
    "name": "ipython",
    "version": 3
   },
   "file_extension": ".py",
   "mimetype": "text/x-python",
   "name": "python",
   "nbconvert_exporter": "python",
   "pygments_lexer": "ipython3",
   "version": "3.9.7"
  }
 },
 "nbformat": 4,
 "nbformat_minor": 5
}
