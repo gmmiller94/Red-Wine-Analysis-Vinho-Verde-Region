{
 "cells": [
  {
   "cell_type": "markdown",
   "id": "cd23f17b-edac-4a90-88d0-81d95b909576",
   "metadata": {},
   "source": [
    "# **Choosing your Data**\n",
    "---"
   ]
  },
  {
   "cell_type": "markdown",
   "id": "949ad8e6-7b4a-4786-ac93-0b3592fc5be3",
   "metadata": {},
   "source": [
    "## **Choice Dataset**\n",
    "\n",
    "### [Wine Quality Dataset] (https://www.kaggle.com/datasets/yasserh/wine-quality-dataset)\n",
    "\n",
    "---\n",
    "\n"
   ]
  },
  {
   "cell_type": "code",
   "execution_count": null,
   "id": "ad7feab4-3732-42f0-8ff2-0821960d163c",
   "metadata": {},
   "outputs": [],
   "source": []
  }
 ],
 "metadata": {
  "kernelspec": {
   "display_name": "Python 3 (ipykernel)",
   "language": "python",
   "name": "python3"
  },
  "language_info": {
   "codemirror_mode": {
    "name": "ipython",
    "version": 3
   },
   "file_extension": ".py",
   "mimetype": "text/x-python",
   "name": "python",
   "nbconvert_exporter": "python",
   "pygments_lexer": "ipython3",
   "version": "3.9.7"
  }
 },
 "nbformat": 4,
 "nbformat_minor": 5
}
