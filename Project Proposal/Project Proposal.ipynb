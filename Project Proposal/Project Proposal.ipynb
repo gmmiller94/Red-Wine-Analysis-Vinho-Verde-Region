{
 "cells": [
  {
   "cell_type": "markdown",
   "id": "c7198af4-6dcd-4f67-bb4a-8f0c133ebf9c",
   "metadata": {},
   "source": [
    "# Project Proposal "
   ]
  },
  {
   "cell_type": "markdown",
   "id": "525e8bc5-54af-4e62-896a-0adde9606773",
   "metadata": {},
   "source": [
    "## Wine Quality Analysis of Vinho Verde Red Wines "
   ]
  },
  {
   "cell_type": "markdown",
   "id": "e26c1ed3-1fc7-41e8-b21a-002c283633c9",
   "metadata": {},
   "source": [
    "---\n",
    "## Executive Summary"
   ]
  },
  {
   "cell_type": "markdown",
   "id": "bd8118db",
   "metadata": {},
   "source": [
    "This proposal aims to outline the flow and outcome of this project, 'Wine Quality Analysis of Vinho Verde Red Wines'.  This project will explore the quality of Vinho Verde red wines within the Minho region of Portugal and determine the most significant physiochemical properties attributed to wine quality and how they contribute.  The assumption is that when wine quality is assessed and refined to produce more quality wines, sales will increase regionally, and winemakers of this region can be more competitive globally.  While evaluating the regional sales data for Vinho Verde red wine is outside this project's scope, the Ministry of Agriculture is focused on defining and implementing measures to guarantee predictability and stability in Portuguese wine production.  \n",
    "\n",
    "Due to the rarity of red wine produced in the Minho region, we aim to build a successful model for evaluating which physicochemical properties have the most significant influence on wine quality and determine the balance between these properties necessary for optimal quality red wine.  Using ordinal logistic regression and linear discriminant analysis, our data analysis hopes to foster the opportunity for winemakers to capitalize on this data, improve decision-making processes, and bring these rare red wines to more tables across the globe. \n",
    "\n",
    "This project will require three data scientists, a weekly scrum master to facilitate project organization and execution, a data science mentor for advisement, a data science instructor for oversight, along with the consultation of work from seasoned data scientists to make sure the machine learning model is robust and data visualizations are accurate.  To conduct data analysis, the first evaluation question, the featured selection process for analysis, will be ordinal logistic regression.  Once the significant features are selected from this analysis, the second portion of this project will use classification to assess the individual characteristics, their relationship to one another, and their effect on quality using linear discriminant analysis. \n",
    "\n",
    "In this process, we recognize possible internal limitations and the external risks associated with this project.  Internally, the data scientists in this project lack practiced proficiency in running ordinal logistic regressions and linear/discriminant function analysis.  To plan around these obstacles, data scientists have devoted time to researching the processes and gathering sound, published, and peer-reviewed resources in anticipation of the project.\n",
    "\n",
    "The primary risk of this project is that climate conditions in the Minho region of Portugal are not as forgiving in red wine production as in white wine production.  The red wines certified in this region are seen as the \"rare gems\" for wine enthusiasts to enjoy.  Because of this and the data mining/techniques in the original dataset, the wines sampled in this data excerpt are more reflective of average wines than excellent or poor wines.  Other outside risks we recognize are the lack of data on grape types, wine brands, and price points.  Although more prominent than before, the original dataset (2009) is limited in size, imbalanced towards average quality wines, and the actual data/mining techniques may be outdated.  There is the potential that the physiochemical features measured back then may be different than they are today due to environmental effects and the effects of climate change.\n",
    "\n",
    "\n",
    "\n"
   ]
  },
  {
   "cell_type": "markdown",
   "id": "0adc9ba3-23f4-40f1-8faf-24554df8760a",
   "metadata": {},
   "source": [
    "---\n",
    "## Business Objectives"
   ]
  },
  {
   "cell_type": "markdown",
   "id": "6152d67a",
   "metadata": {},
   "source": [
    "Quality evaluation is part of the wine certification process, a process assessed through physicochemical and sensory tests.  Knowledge gained by identifying the most influential factors in wine quality can improve wine making and help determine relative price points, distinguishing premium brands from average or lower quality brands.\n",
    "\n",
    "Although the process seems straightforward, the relationships between the physicochemical and sensory analysis bear much complexity and are not fully understood.  Wine tasting is a mitigating factor in this process, a crucial component in the certification and quality recognition, yet taste is the least understood of the human senses.  This makes wine classification an even more daunting task.\n",
    "Though there is potential in predicting wine quality based on physicochemical data, before the original ‘Modeling Wine Preferences’ data mining project in 2009, predicting wine quality based on physicochemical data was limited.  The potential for integrating such techniques and unearthing data trends and patterns could vastly improve wine makers’ decision-making.\n",
    "\n",
    "Due to the rarity of red wine produced in the Minho region, we look to focus our efforts exclusively on the Vinho Verde red portion of the data set of 1599 cases, which will further reduce to 1143 cases once the data is cleaned and wrangled.  Through this process, we aim to build a successful model for evaluating which physicochemical properties have the most significant influence on the quality of wine.\n",
    "Our evaluation questions and methodology are as follows.\n",
    "\n",
    "Evaluation question 1.  Which physiochemical properties of wine have the most significant impact on quality?\n",
    "\n",
    "Methodology for answering evaluation question 1.  To answer this first question, we intend to conduct an ordinal logistic regression to evaluate the effect of 11 independent (continuous) variables on wine quality (dependent, ordinal variable).  Previous regression models we have explored use stepwise/binary logistic regression.  As a data science team, we felt this was a disservice to the data by grouping quality data that was initially ranked on an 11-point scale (0-10) into only two groups.  We believe that grouping the quality, ranging from 3-8 in these data values, is a better approach to assessing the data (quality rating 3-4: poor, 5-6: average, 7-8: good). \n",
    "\n",
    "Evaluation question 2.  Having identified the physicochemical properties that significantly influence wine quality, how do they affect wine quality individually?  (i.e., What balance or interplay between these variables is necessary for the best quality wine?\n",
    "\n",
    "Methodology for answering evaluation question 2.  To answer evaluation question 2, we will use the ordinal logistic regression results to build a model to run a linear discriminant function analysis.  From that model, we anticipate a clearer idea of the variables that play a significant role in the quality and the optimal balance between these properties that lead to producing the greatest quality Vinho Verde red wine."
   ]
  },
  {
   "cell_type": "markdown",
   "id": "41f3e81c-9989-4833-9fff-3e3290743710",
   "metadata": {},
   "source": [
    "---\n",
    "## Background"
   ]
  },
  {
   "cell_type": "markdown",
   "id": "90719afd",
   "metadata": {},
   "source": [
    "Portugal is the fifth largest wine producer in Europe and the eleventh largest in the world.  Despite the COVID-19 pandemic, Portugal's wine exports grew by 5% compared to the previous year.  More than 306 million liters of wine were exported during that period, valued at $936 million.  In 2021, Portuguese wines grew an additional 3.8% in volume, 8.6% in value, and 4.6% in average price from the same reporting period in 2020. \n",
    "The country boasts 14 renowned wine regions for quality wine production.  Because of the increasing value of Portuguese wine, in competition with France, the United States, the United Kingdom, Brazil, and Germany, the Ministry of Agriculture has honed its focus on monitoring farmers and producers to define and implement necessary measures to guarantee predictability and stability in Portuguese wine production.  Wine certification and quality assessment are key elements within this context. \n",
    "\n",
    "Vinho Verde hails from a small region, Minho, nestled in Northern Portugal.  Minho is particularly known for its bright, summery white wines with subtle carbonation.  However, red and rosé Vinho Verde wines are the region's rarer gem.  The cool and rainy climate in Minho makes it a bit more difficult to ripen the red Vinhão and even rarer Padeiro grapes.  \n",
    "\n",
    "Due to the lack of data surrounding red wine quality, particularly in the Minho region of Portugal, coupled with initiatives to be a larger regional and global competitor in the wine export industry, as data scientists, we recognize the opportunity available for winemakers to capitalize on this data, improve decision making processes, and bring these rare red wines to more tables across the globe.\n"
   ]
  },
  {
   "cell_type": "markdown",
   "id": "37cfc6ee-17cd-4fc7-9057-8c67daf49fca",
   "metadata": {},
   "source": [
    "---\n",
    "## Scope"
   ]
  },
  {
   "cell_type": "markdown",
   "id": "74ce91bb",
   "metadata": {},
   "source": [
    "The project's scope is outlined below, including factors in scope and considerations for elements outside this project's scope.\n",
    "\n",
    "In scope.  This project's scope includes 1143 Vinho Verde red wine samples from the original wine dataset.  The original sample data for this analysis was collected between May 2004 and February 2007 using protected samples tested at an official certification entity.  All available factor variables, fixed acidity, volatile acidity, citric acid, residual sugar, chlorides, free sulfur dioxide, total sulfur dioxide, density, pH, sulphates, and alcohol, are used to begin the process of determining factor significance in overall wine quality. \n",
    "\n",
    "Outside of scope.  Not included in this project's scope are 456 Vinho Verde red wine samples from the original wine dataset that contained missing information in one or more variable columns.  Additionally, supporting and relative data that may play a factor or result from specific wine quality were not made available in the original publication of the 2009 data project and are outside the scope of this project.  Relative factors include individual wine brands, winemakers, price points, sales data, grape types used, weather, crop, soil salinity, and harvesting data. \n",
    "\n",
    "Considering the 'called'  variables included, the original dataset classified the fixed acidity variable as a measure solely of tartaric acid.  Citric acid, another fixed acid, also sometimes added later in the process for crispness, was placed into its own category.  Malic acid is also a fixed acid in wine, and succinic acid is produced during fermentation.  There is no classification data on the citric acid content, whether it was solely a fixed acid, an additive, or a combination of both in specific samples.  Such delineations were not made clear regarding fixed acid classification details and are outside this project's scope as the data scientists did not take part in the original data mining.  The notation is made because additional prior clarification may have affected this project's results.\n",
    "\n",
    "Also excluded from this project's scope are the 4898 samples of Vinho Verde white wines in an ancillary dataset that was a part of the initial 2009 data mining project.  The purpose of the project focus is focused exclusively on the red wine samples.  The climate of this region is more suited for white wine production, and different conditions are noted to be amenable to white wine production.  This is a point of interest for potentially a second study but not as part of this project."
   ]
  },
  {
   "cell_type": "markdown",
   "id": "39d881b9-dee3-4bb3-a9d3-98e633d29400",
   "metadata": {},
   "source": [
    "---\n",
    "## Functional Requirements"
   ]
  },
  {
   "cell_type": "markdown",
   "id": "633134d9",
   "metadata": {},
   "source": [
    "In this data analysis, we will be utilizing the ‘Wine Quality Data Set’, located on Kaggle: https://www.kaggle.com/datasets/yasserh/wine-quality-dataset.  This dataset comprises red \"Vinho Verde\" wine from the Minho region of Portugal, produced between 2004 and 2007. The original dataset is located on the UCI Machine Learning Repository: https://archive.ics.uci.edu/ml/datasets/wine+quality.  \n",
    "\n",
    "The dataset provides 11 variable/chemical components in wine and their effect on quality. No additional information is provided to name the wines collected as a part of this sample or their price point. The classes of wine within this dataset are ordered and are not balanced.\n",
    "\n",
    "To complete the exploratory plots, build a predictive model, and run an ordinal logistic regression, we will perform the analysis and meet the assumptions testing in R. Based on background research, we anticipate utilizing the following packages in the R library to complete this process. These include brant, car, caret, corpcor, corrplot, dyplr, e1071, effects, ggplot2, llmtest, magrittr, MASS, PerformanceAnalytics, popbio, tidyr, and tidyverse.\n",
    "\n",
    "The ordinal logistic regression will look at which of the following independent variables (11) have the most influence on wine quality (dependent variable): fixed acidity, volatile acidity, citric acid, residual sugars, pH, free sulfur dioxide, total sulfur dioxides, sulphates, density, pH, and alcohol. From the ordinal logistic regression results, data scientists will take the variables that show statistical significance in influencing wine quality and use them to run a discriminant function analysis.\n",
    "\n",
    "In the linear discriminant function analysis, data scientists look to see the relative ratios and influence, if any, between the significant variables (balance between them) that constitute a poor, average, or above-average quality wine. To complete the discriminant function analysis and check for influential outliers, data scientists will use R to complete these processes, anticipating the following packages: corrplot,ggplot2, MASS, reshape2, tibble, and tidyr.\n",
    "\n",
    "Once all exploratory, modeling, and analyses have been completed, data scientists will summarize and present the final results through a PowerPoint presentation. Data scientists will also use Tableau for data display to supplement and provide clear, in-depth visualizations."
   ]
  },
  {
   "cell_type": "markdown",
   "id": "97358ce8-99d0-4eda-aee4-4fad59988d38",
   "metadata": {},
   "source": [
    "---\n",
    "## Personnel Requirements"
   ]
  },
  {
   "cell_type": "markdown",
   "id": "5a6c3a4e",
   "metadata": {},
   "source": [
    "This project's scope requires three data scientists, a data science mentor for consultation, and an instructor/industry professional for project oversight.  Scrum master duties for this project will be rotated between the participating data scientists and posted on the team Kanban board in Trello.  The weekly scrum master will be responsible for facilitating the structure of the project duties for the week, conducting weekly team stand-up meetings, presenting weekly progress to the instructor, and coordinating/organizing team feedback and communication.\n",
    "\n",
    "The expected timeline for completion is six weeks from the onset to the final presentation, with each data scientist devoting approximately 20 hours per week to the project.  Team meetings will take place at least twice weekly for 30-40 minutes via Zoom or a Slack call.  One team meeting will take place at the beginning of each project week.  A second team meeting will occur immediately following the weekly 30-minute meeting with the instructor and data science mentor.\n",
    "\n",
    "The team Slack channel will communicate additional feedback, ideas, and obstacles.  The weekly scrum master will be responsible for disseminating guidance through the team Slack channel and recommending a proposed course of action to overcome barriers or integrate new ideas, as necessary.\n"
   ]
  },
  {
   "cell_type": "markdown",
   "id": "554cdf1a-a8f3-44d1-8dc7-8b1dde5a9439",
   "metadata": {},
   "source": [
    "---\n",
    "## Delivery Schedule\n"
   ]
  },
  {
   "cell_type": "markdown",
   "id": "cc494e5a",
   "metadata": {},
   "source": [
    "Week 1: Original Project Planning\n",
    "\n",
    "Week 2: Data Wrangling, Set Up for Stepwise Binary Logistic Regression\n",
    "\n",
    "Week 3: Team Change, Update Data Approach and Analysis\n",
    "\n",
    "Week 4: New Data Wrangling, First Analysis: Ordinal Logistic Regression\n",
    "\n",
    "Week 5: Second Analysis: LDA, Visualization\n",
    "\n",
    "Week 6: Wrap up of Analysis, Presentation Set Up and Report"
   ]
  },
  {
   "cell_type": "markdown",
   "id": "43d2303a-71bd-4b35-8991-e872696dd7f8",
   "metadata": {},
   "source": [
    "---\n",
    "## Assumptions\n"
   ]
  },
  {
   "cell_type": "markdown",
   "id": "fc569ad9",
   "metadata": {},
   "source": [
    "As part of this data science project, the team makes several assumptions. The first is that because of the added complexity of this unbalanced dataset, against the team's novice experience relative to performing an ordinal logistic regression and linear discriminant function analysis, the team assumes that sufficient resources are available to complete these analyses successfully without issue. This assumption spills over to using R as a programming language and that the team will be able to conduct the testing in R without running into obstacles with Jupyter Notebook, R studio, or any of the R library packages. \n",
    "\n",
    "Concerning the dataset, we assume that the 1143 clean data wines will be sufficient enough to be able to answer our two evaluation questions successfully. Considering the age of the original dataset (2009), we also assume that what we are investigating still holds relevance and significance to be explored today. Finally, we assume that we have sufficient time and resources to complete the project on time to stay within the anticipated deadline for presentation on June 16, 2022."
   ]
  },
  {
   "cell_type": "markdown",
   "id": "5250f3e2-d6ff-4359-bb01-5cb23df03822",
   "metadata": {},
   "source": [
    "---\n",
    "## Limitations"
   ]
  },
  {
   "cell_type": "markdown",
   "id": "36850fc4",
   "metadata": {},
   "source": [
    "Here we address limitations for consideration upon review of the project proposal. In terms of running the selected analyses, the data scientists involved in the project have not previously completed projects that required ordinal logistic regression or discriminant function analysis. To plan around these obstacles, data scientists have devoted time to researching the processes and gathering sound, published, and peer-reviewed resources in anticipation of the project. Data scientists have consulted with their data science mentor and instructor before the project proposal phase to gather additional feedback and guidance.\n",
    "\n",
    "The second limitation we anticipate encountering concerns scheduling and timing issues. Data scientists have each blocked time throughout the six-week process to work on this data science project. There are, however, blocks of time in which data scientists do not have the immediate availability to consult via Zoom or Slack if a question or issue arises. To counterbalance this issue, data scientists look to practice great diligence at the beginning of each workday to summarize their goals and availability for the day, so one can expect when another can answer or when to expect progress. A variety of tasks will also be published at the beginning of each week, in which a team member can pick up another card to work on while awaiting a response from the team/scrum master.\n",
    "\n",
    "Lastly, this project proposal follows an original proposal in which team members felt pulled to explore different models and additional evaluation questions relevant to this dataset. The changes that arose, separating the team into other courses of analysis, shortened the time allowance for the project. The three data scientists on the current project proposal team anticipate needing to rework some of the data wrangling and exploratory analyses required to move forward with the project's new direction.\n"
   ]
  },
  {
   "cell_type": "markdown",
   "id": "5174941c-9a3b-4bed-9e61-fd258d67229c",
   "metadata": {},
   "source": [
    "---\n",
    "## Risks"
   ]
  },
  {
   "cell_type": "markdown",
   "id": "b1cf2349",
   "metadata": {},
   "source": [
    "Risks are anticipated in this project, but the data science team has discussed such concerns to mitigate them and work through them when possible.  The initial perils come with the dataset itself.  In the project selection process, we chose the red Vinho Verde data from the original dataset; the red wine is not as readily produced in the Minho region due to the cool, wet climate the area experiences.  Because of this, excellent red wines are harder to find in this region.  The red dataset has fewer samples (1599 vs. 4898) than the white Vinho Verde wine samples.  The quality scale in our dataset is also highly imbalanced.  There are far more average or ‘normal’ wines than poor or above-average ones.\n",
    "\n",
    "Another risk the team has considered concerns is the analyses and outside factors we may not have control over (i.e., illness on the team or other acute emergencies that could disturb the project). Time may run out before the team can complete all of the portions of the project, considering the added tightened timeline after the previous separation.  The data science team has taken great care in the secondary planning phases of this second project to allow for any obstacles that should be temporarily reassigned as necessary until the team member can return to the project."
   ]
  }
 ],
 "metadata": {
  "kernelspec": {
   "display_name": "Python 3.10.1 64-bit",
   "language": "python",
   "name": "python3"
  },
  "language_info": {
   "codemirror_mode": {
    "name": "ipython",
    "version": 3
   },
   "file_extension": ".py",
   "mimetype": "text/x-python",
   "name": "python",
   "nbconvert_exporter": "python",
   "pygments_lexer": "ipython3",
   "version": "3.10.1"
  },
  "vscode": {
   "interpreter": {
    "hash": "aee8b7b246df8f9039afb4144a1f6fd8d2ca17a180786b69acc140d282b71a49"
   }
  }
 },
 "nbformat": 4,
 "nbformat_minor": 5
}
